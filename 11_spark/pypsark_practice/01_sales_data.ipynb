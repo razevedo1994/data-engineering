{
 "cells": [
  {
   "cell_type": "code",
   "execution_count": 2,
   "metadata": {},
   "outputs": [],
   "source": [
    "from pyspark.sql import SparkSession\n",
    "from pyspark.sql.types import *\n",
    "from pyspark.sql.functions import *"
   ]
  },
  {
   "cell_type": "code",
   "execution_count": 3,
   "metadata": {},
   "outputs": [
    {
     "name": "stderr",
     "output_type": "stream",
     "text": [
      "Setting default log level to \"WARN\".\n",
      "To adjust logging level use sc.setLogLevel(newLevel). For SparkR, use setLogLevel(newLevel).\n"
     ]
    },
    {
     "name": "stdout",
     "output_type": "stream",
     "text": [
      "23/12/13 21:29:34 WARN NativeCodeLoader: Unable to load native-hadoop library for your platform... using builtin-java classes where applicable\n"
     ]
    }
   ],
   "source": [
    "spark = (SparkSession\n",
    "         .builder\n",
    "         .appName(\"PySparkPractice\")\n",
    "         .getOrCreate())"
   ]
  },
  {
   "cell_type": "code",
   "execution_count": 6,
   "metadata": {},
   "outputs": [],
   "source": [
    "schema = StructType([\n",
    "    StructField(\"date\", StringType(), True),\n",
    "    StructField(\"product\", StringType(), True),\n",
    "    StructField(\"quantity\", IntegerType(), True),\n",
    "    StructField(\"unit_price\", IntegerType(), True),\n",
    "    StructField(\"country\", StringType(), True)\n",
    "])"
   ]
  },
  {
   "cell_type": "code",
   "execution_count": 10,
   "metadata": {},
   "outputs": [],
   "source": [
    "data = [\n",
    "    [\n",
    "        \"2023-01-01\",\n",
    "        \"Product A\",\n",
    "        10,\n",
    "        20,\n",
    "        \"USA\",\n",
    "    ],\n",
    "    [\n",
    "        \"2023-01-02\",\n",
    "        \"Product B\",\n",
    "        15,\n",
    "        25,\n",
    "        \"Canada\",\n",
    "    ],\n",
    "    [\n",
    "        \"2023-01-03\",\n",
    "        \"Product C\",\n",
    "        12,\n",
    "        30,\n",
    "        \"USA\",\n",
    "    ],\n",
    "    [\n",
    "        \"2023-01-04\",\n",
    "        \"Product A\",\n",
    "        8,\n",
    "        20,\n",
    "        \"UK\",\n",
    "    ],\n",
    "    [\n",
    "        \"2023-01-05\",\n",
    "        \"Product B\",\n",
    "        20,\n",
    "        25,\n",
    "        \"Australia\"\n",
    "    ]\n",
    "]"
   ]
  },
  {
   "cell_type": "code",
   "execution_count": 11,
   "metadata": {},
   "outputs": [],
   "source": [
    "sales_df = spark.createDataFrame(data=data, schema=schema)"
   ]
  },
  {
   "cell_type": "code",
   "execution_count": 12,
   "metadata": {},
   "outputs": [
    {
     "name": "stdout",
     "output_type": "stream",
     "text": [
      "+----------+---------+--------+----------+---------+\n",
      "|      date|  product|quantity|unit_price|  country|\n",
      "+----------+---------+--------+----------+---------+\n",
      "|2023-01-01|Product A|      10|        20|      USA|\n",
      "|2023-01-02|Product B|      15|        25|   Canada|\n",
      "|2023-01-03|Product C|      12|        30|      USA|\n",
      "|2023-01-04|Product A|       8|        20|       UK|\n",
      "|2023-01-05|Product B|      20|        25|Australia|\n",
      "+----------+---------+--------+----------+---------+\n",
      "\n"
     ]
    }
   ],
   "source": [
    "sales_df.show()"
   ]
  },
  {
   "cell_type": "code",
   "execution_count": 14,
   "metadata": {},
   "outputs": [
    {
     "name": "stdout",
     "output_type": "stream",
     "text": [
      "+----------+---------+--------+----------+---------+-----------+\n",
      "|      date|  product|quantity|unit_price|  country|total_sales|\n",
      "+----------+---------+--------+----------+---------+-----------+\n",
      "|2023-01-01|Product A|      10|        20|      USA|        200|\n",
      "|2023-01-02|Product B|      15|        25|   Canada|        375|\n",
      "|2023-01-03|Product C|      12|        30|      USA|        360|\n",
      "|2023-01-04|Product A|       8|        20|       UK|        160|\n",
      "|2023-01-05|Product B|      20|        25|Australia|        500|\n",
      "+----------+---------+--------+----------+---------+-----------+\n",
      "\n"
     ]
    }
   ],
   "source": [
    "# Data Transformation: Add a new column Total_Sales which is the product of Quantity and Unit_Price.\n",
    "\n",
    "sales_df = sales_df.withColumn(\"total_sales\", sales_df.quantity * sales_df.unit_price)\n",
    "sales_df.show()"
   ]
  },
  {
   "cell_type": "code",
   "execution_count": 15,
   "metadata": {},
   "outputs": [
    {
     "name": "stdout",
     "output_type": "stream",
     "text": [
      "+----------+---------+--------+----------+---------+-----------+\n",
      "|      date|  product|quantity|unit_price|  country|total_sales|\n",
      "+----------+---------+--------+----------+---------+-----------+\n",
      "|2023-01-01|Product A|      10|        20|      USA|        200|\n",
      "|2023-01-02|Product B|      15|        25|   Canada|        375|\n",
      "|2023-01-03|Product C|      12|        30|      USA|        360|\n",
      "|2023-01-05|Product B|      20|        25|Australia|        500|\n",
      "+----------+---------+--------+----------+---------+-----------+\n",
      "\n"
     ]
    }
   ],
   "source": [
    "# Filtering Data: Filter the records to show only those where Quantity is greater than 10.\n",
    "\n",
    "sales_df.filter(sales_df.quantity >= 10).show()"
   ]
  },
  {
   "cell_type": "code",
   "execution_count": 18,
   "metadata": {},
   "outputs": [
    {
     "name": "stdout",
     "output_type": "stream",
     "text": [
      "+---------+----------------+\n",
      "|  product|sum(total_sales)|\n",
      "+---------+----------------+\n",
      "|Product A|             360|\n",
      "|Product B|             875|\n",
      "|Product C|             360|\n",
      "+---------+----------------+\n",
      "\n"
     ]
    }
   ],
   "source": [
    "# Grouping and Aggregation: Calculate the total sales (Total_Sales) per Product.\n",
    "\n",
    "sales_df.groupBy(\"product\").sum(\"total_sales\").show()"
   ]
  },
  {
   "cell_type": "code",
   "execution_count": null,
   "metadata": {},
   "outputs": [],
   "source": []
  },
  {
   "cell_type": "code",
   "execution_count": null,
   "metadata": {},
   "outputs": [],
   "source": []
  },
  {
   "cell_type": "code",
   "execution_count": null,
   "metadata": {},
   "outputs": [],
   "source": []
  }
 ],
 "metadata": {
  "kernelspec": {
   "display_name": "Python 3",
   "language": "python",
   "name": "python3"
  },
  "language_info": {
   "codemirror_mode": {
    "name": "ipython",
    "version": 3
   },
   "file_extension": ".py",
   "mimetype": "text/x-python",
   "name": "python",
   "nbconvert_exporter": "python",
   "pygments_lexer": "ipython3",
   "version": "3.10.7"
  }
 },
 "nbformat": 4,
 "nbformat_minor": 2
}
